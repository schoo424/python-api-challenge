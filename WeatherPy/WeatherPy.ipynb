{
 "cells": [
  {
   "cell_type": "markdown",
   "metadata": {},
   "source": [
    "# WeatherPy\n",
    "----\n",
    "\n",
    "#### Note\n",
    "* Instructions have been included for each segment. You do not have to follow them exactly, but they are included to help you think through the steps."
   ]
  },
  {
   "cell_type": "code",
   "execution_count": 1,
   "metadata": {
    "scrolled": true
   },
   "outputs": [],
   "source": [
    "# Dependencies and Setup\n",
    "import matplotlib.pyplot as plt\n",
    "import pandas as pd\n",
    "import numpy as np\n",
    "import requests\n",
    "import time\n",
    "import scipy.stats as st\n",
    "from scipy.stats import linregress\n",
    "from pprint import pprint\n",
    "import os\n",
    "import csv\n",
    "\n",
    "# Import API key\n",
    "from api_keys import weather_api_key\n",
    "\n",
    "# Incorporated citipy to determine city based on latitude and longitude\n",
    "# !pip install citipy\n",
    "from citipy import citipy\n",
    "\n",
    "# Output File (CSV)\n",
    "output_data_file = \"../output_data/cities.csv\"\n",
    "\n",
    "# Range of latitudes and longitudes\n",
    "lat_range = (-90, 90)\n",
    "lng_range = (-180, 180)"
   ]
  },
  {
   "cell_type": "code",
   "execution_count": null,
   "metadata": {},
   "outputs": [],
   "source": []
  },
  {
   "cell_type": "markdown",
   "metadata": {},
   "source": [
    "## Generate Cities List"
   ]
  },
  {
   "cell_type": "code",
   "execution_count": 5,
   "metadata": {},
   "outputs": [
    {
     "data": {
      "text/plain": [
       "540"
      ]
     },
     "execution_count": 5,
     "metadata": {},
     "output_type": "execute_result"
    }
   ],
   "source": [
    "# List for holding lat_lngs and cities\n",
    "lat_lngs = []\n",
    "cities = []\n",
    "\n",
    "# Create a set of random lat and lng combinations\n",
    "lats = np.random.uniform(lat_range[0], lat_range[1], size=1200)\n",
    "lngs = np.random.uniform(lng_range[0], lng_range[1], size=1200)\n",
    "lat_lngs = zip(lats, lngs)\n",
    "\n",
    "# Identify nearest city for each lat, lng combination\n",
    "for lat_lng in lat_lngs:\n",
    "    city = citipy.nearest_city(lat_lng[0], lat_lng[1]).city_name\n",
    "    \n",
    "    # If the city is unique, then add it to a our cities list\n",
    "    if city not in cities:\n",
    "        cities.append(city)\n",
    "\n",
    "# Print the city count to confirm sufficient count\n",
    "len(cities)\n",
    "\n",
    "\n",
    "#During the build, I started with a much smaller dataset (~20) then increased it as the code became more complete."
   ]
  },
  {
   "cell_type": "markdown",
   "metadata": {},
   "source": [
    "### Perform API Calls\n",
    "* Perform a weather check on each city using a series of successive API calls.\n",
    "* Include a print log of each city as it'sbeing processed (with the city number and city name).\n"
   ]
  },
  {
   "cell_type": "code",
   "execution_count": 7,
   "metadata": {},
   "outputs": [
    {
     "name": "stdout",
     "output_type": "stream",
     "text": [
      "#1: lazurne\n",
      "city not found\n",
      "#2: ijaki\n",
      "#3: rikitea\n",
      "#4: elizabeth city\n",
      "#5: bethel\n",
      "#6: victoria\n",
      "#7: nelson bay\n",
      "#8: mataura\n",
      "#9: tamuin\n",
      "city not found\n",
      "#10: tsihombe\n",
      "#11: lompoc\n",
      "#12: antofagasta\n",
      "city not found\n",
      "#13: saleaula\n",
      "#14: simoes\n",
      "city not found\n",
      "#15: jhikargachha\n",
      "#16: punta arenas\n",
      "#17: manta\n",
      "#18: port-gentil\n",
      "#19: oranjestad\n",
      "#20: ipora\n",
      "#21: puerto ayora\n",
      "#22: saint-pierre\n",
      "#23: olafsvik\n",
      "#24: ponta do sol\n",
      "#25: touros\n",
      "#26: ahipara\n",
      "#27: cape town\n",
      "#28: alta floresta\n",
      "#29: omaruru\n",
      "#30: diffa\n",
      "city not found\n",
      "#31: attawapiskat\n",
      "#32: vaitape\n",
      "city not found\n",
      "#33: nizhneyansk\n",
      "#34: cabo san lucas\n",
      "#35: codrington\n",
      "#36: kapaa\n",
      "#37: ilulissat\n",
      "#38: urumqi\n",
      "#39: yuryevets\n",
      "#40: necochea\n",
      "#41: hamilton\n",
      "#42: new norfolk\n",
      "#43: saskylakh\n",
      "#44: bluff\n",
      "#45: port elizabeth\n",
      "#46: provideniya\n",
      "#47: ushuaia\n",
      "#48: jamestown\n",
      "#49: iqaluit\n",
      "#50: komsomolskiy\n",
      "#51: haines junction\n",
      "#52: busselton\n",
      "#53: vaini\n",
      "city not found\n",
      "#54: taolanaro\n",
      "#55: ketchikan\n",
      "#56: lebu\n",
      "#57: olinda\n",
      "#58: mahebourg\n",
      "city not found\n",
      "#59: barentsburg\n",
      "#60: roald\n",
      "#61: ambilobe\n",
      "#62: tocopilla\n",
      "#63: derzhavinsk\n",
      "#64: ixtapa\n",
      "#65: albany\n",
      "#66: tezu\n",
      "#67: skjervoy\n",
      "#68: esmeraldas\n",
      "#69: east london\n",
      "#70: khatanga\n",
      "#71: sturgeon bay\n",
      "#72: hermanus\n",
      "city not found\n",
      "#73: karaul\n",
      "#74: zurrieq\n",
      "#75: gat\n",
      "#76: mount gambier\n",
      "#77: dikson\n",
      "#78: beringovskiy\n",
      "city not found\n",
      "#79: kilmez\n",
      "#80: road town\n",
      "#81: bredasdorp\n",
      "#82: prince rupert\n",
      "#83: guerrero negro\n",
      "#84: araouane\n",
      "city not found\n",
      "#85: amderma\n",
      "#86: hervey bay\n",
      "#87: isangel\n",
      "#88: mount vernon\n",
      "#89: barrow\n",
      "#90: keuruu\n",
      "#91: arraial do cabo\n",
      "#92: moranbah\n",
      "#93: saldanha\n",
      "#94: kristinehamn\n",
      "#95: souillac\n",
      "#96: griffith\n",
      "#97: butaritari\n",
      "#98: talnakh\n",
      "#99: do gonbadan\n",
      "#100: itarema\n",
      "#101: chokurdakh\n",
      "city not found\n",
      "#102: belushya guba\n",
      "#103: paamiut\n",
      "#104: pangnirtung\n",
      "#105: hilo\n",
      "#106: kerchevskiy\n",
      "#107: northam\n",
      "#108: mar del plata\n",
      "#109: xining\n",
      "#110: mweka\n",
      "#111: jining\n",
      "#112: tuktoyaktuk\n",
      "#113: tapes\n",
      "#114: hay river\n",
      "city not found\n",
      "#115: illoqqortoormiut\n",
      "#116: lagoa\n",
      "#117: abha\n",
      "#118: san quintin\n",
      "#119: grand gaube\n",
      "#120: esperance\n",
      "#121: atuona\n",
      "#122: zhigansk\n",
      "#123: thompson\n",
      "#124: macheng\n",
      "#125: castro\n",
      "#126: avarua\n",
      "#127: sao filipe\n",
      "#128: oranjemund\n",
      "#129: hithadhoo\n",
      "#130: hobart\n",
      "#131: sitka\n",
      "#132: sobolevo\n",
      "#133: mount isa\n",
      "#134: praxedis guerrero\n",
      "#135: grindavik\n",
      "city not found\n",
      "#136: mys shmidta\n",
      "#137: yar-sale\n",
      "city not found\n",
      "#138: palabuhanratu\n",
      "#139: salinopolis\n",
      "#140: saint-philippe\n",
      "#141: claudio\n",
      "city not found\n",
      "#142: halalo\n",
      "#143: vostok\n",
      "#144: puerto escondido\n",
      "#145: qaanaaq\n",
      "#146: yellowknife\n",
      "#147: jadu\n",
      "#148: awbari\n",
      "city not found\n",
      "#149: kerteh\n",
      "#150: tazovskiy\n",
      "#151: torit\n",
      "#152: bonfim\n",
      "#153: sao joao da barra\n",
      "#154: darhan\n",
      "#155: marzanesti\n",
      "#156: broken hill\n",
      "#157: malangali\n",
      "#158: margate\n",
      "city not found\n",
      "#159: samusu\n",
      "#160: tasiilaq\n",
      "#161: maloy\n",
      "#162: san patricio\n",
      "#163: alekseyevskaya\n",
      "#164: kuruman\n",
      "#165: votkinsk\n",
      "#166: cherskiy\n",
      "#167: miajadas\n",
      "#168: namibe\n",
      "#169: adtuyon\n",
      "#170: bayan\n",
      "#171: kapoeta\n",
      "#172: saryagash\n",
      "#173: kayes\n",
      "#174: norman wells\n",
      "#175: maumere\n",
      "#176: sfantu gheorghe\n",
      "#177: cidreira\n",
      "#178: glenwood springs\n",
      "#179: ubauro\n",
      "#180: caravelas\n",
      "#181: kawalu\n",
      "#182: port hardy\n",
      "#183: turbat\n",
      "#184: port alfred\n",
      "#185: high level\n",
      "#186: akureyri\n",
      "#187: victoria point\n",
      "#188: clyde river\n",
      "#189: shimoda\n",
      "#190: faanui\n",
      "city not found\n",
      "#191: lolua\n",
      "#192: ribeira grande\n",
      "#193: saint george\n",
      "#194: chuy\n",
      "#195: kabinda\n",
      "#196: tual\n",
      "#197: ginda\n",
      "#198: oneonta\n",
      "#199: ust-ishim\n",
      "city not found\n",
      "#200: skagastrond\n",
      "#201: columbus\n",
      "#202: sangod\n",
      "#203: bengkulu\n",
      "#204: viedma\n",
      "#205: avera\n",
      "#206: kaitong\n",
      "#207: kahului\n",
      "#208: ambon\n",
      "#209: krasnoselkup\n",
      "city not found\n",
      "#210: marv dasht\n",
      "#211: pisco\n",
      "#212: coromandel\n",
      "#213: constitucion\n",
      "#214: vila\n",
      "#215: tigil\n",
      "#216: kruisfontein\n",
      "#217: qaqortoq\n",
      "#218: ostrovnoy\n",
      "#219: ballina\n",
      "#220: atikokan\n",
      "#221: kodiak\n",
      "#222: china\n",
      "#223: viramgam\n",
      "#224: sovetskiy\n",
      "#225: chandia\n",
      "#226: vila velha\n",
      "#227: broome\n",
      "#228: puerto baquerizo moreno\n",
      "#229: nsoko\n",
      "#230: bogotol\n",
      "#231: kuopio\n",
      "#232: rawson\n",
      "#233: aklavik\n",
      "#234: hope\n",
      "city not found\n",
      "#235: afanasyevo\n",
      "#236: georgetown\n",
      "#237: dingle\n",
      "city not found\n",
      "#238: tocantinopolis\n",
      "#239: silleda\n",
      "#240: sept-iles\n",
      "#241: sheksna\n",
      "#242: pingdingshan\n",
      "#243: san cristobal\n",
      "#244: vao\n",
      "#245: suez\n",
      "#246: momil\n",
      "#247: popondetta\n",
      "#248: los llanos de aridane\n",
      "#249: tessalit\n",
      "#250: camapua\n",
      "#251: zhaozhou\n",
      "#252: esso\n",
      "#253: narsaq\n",
      "#254: itaunja\n",
      "city not found\n",
      "#255: cockburn harbour\n",
      "#256: uyuni\n",
      "#257: evensk\n",
      "#258: alugan\n",
      "#259: upernavik\n",
      "#260: vestmanna\n",
      "#261: denpasar\n",
      "#262: san jose\n",
      "#263: leh\n",
      "#264: wajima\n",
      "#265: tiksi\n",
      "#266: skibbereen\n",
      "#267: dunedin\n",
      "#268: orlovo\n",
      "#269: villazon\n",
      "#270: luanda\n",
      "#271: ponta delgada\n",
      "#272: ostersund\n",
      "city not found\n",
      "#273: tlyarota\n",
      "#274: hasaki\n",
      "#275: bergen\n",
      "#276: sarany\n",
      "#277: imeni poliny osipenko\n",
      "#278: wanning\n",
      "#279: cabedelo\n",
      "#280: gravdal\n",
      "#281: ratnagiri\n",
      "#282: bubaque\n",
      "#283: hofn\n",
      "#284: nanortalik\n",
      "#285: sulangan\n",
      "#286: torbay\n",
      "#287: lodwar\n",
      "#288: nambucca heads\n",
      "#289: te anau\n",
      "#290: high rock\n",
      "#291: minsk\n",
      "city not found\n",
      "#292: westpunt\n",
      "#293: dudinka\n",
      "#294: shirokiy\n",
      "#295: novikovo\n",
      "#296: pitimbu\n",
      "#297: port lincoln\n",
      "#298: muli\n",
      "#299: caconda\n",
      "#300: keskin\n",
      "#301: lata\n",
      "#302: bolu\n",
      "#303: salinas\n",
      "#304: tiznit\n",
      "#305: suntar\n",
      "#306: nikolskoye\n",
      "#307: coihaique\n",
      "#308: zhanakorgan\n",
      "#309: cotonou\n",
      "#310: muisne\n",
      "#311: timra\n",
      "#312: zinder\n",
      "#313: puerto el triunfo\n",
      "#314: nepa nagar\n",
      "#315: linxia\n",
      "city not found\n",
      "#316: wulanhaote\n",
      "#317: severo-kurilsk\n",
      "#318: longyearbyen\n",
      "#319: pafos\n",
      "#320: saint-esteve\n",
      "city not found\n",
      "#321: warqla\n",
      "#322: half moon bay\n",
      "#323: rio grande\n",
      "#324: san\n",
      "#325: raudeberg\n",
      "#326: belyy yar\n",
      "#327: lavrentiya\n",
      "#328: khovu-aksy\n",
      "#329: komarikhinskiy\n",
      "city not found\n",
      "#330: kracheh\n",
      "#331: ambunti\n",
      "#332: nouadhibou\n",
      "#333: carballo\n",
      "#334: khash\n",
      "#335: grand-lahou\n",
      "#336: san ramon\n",
      "#337: airai\n",
      "#338: verkhnya syrovatka\n",
      "#339: bangui\n",
      "#340: vanimo\n",
      "#341: tura\n",
      "#342: qeshm\n",
      "#343: tucupita\n",
      "#344: antigonish\n",
      "#345: sol-iletsk\n",
      "#346: tautira\n",
      "#347: salalah\n",
      "#348: izumo\n",
      "#349: amahai\n",
      "#350: loreto\n",
      "#351: falun\n",
      "#352: karratha\n",
      "#353: borba\n",
      "#354: tamiahua\n",
      "city not found\n",
      "#355: vaitupu\n",
      "#356: saint-joseph\n",
      "#357: ushtobe\n",
      "#358: soe\n",
      "#359: lincoln\n",
      "#360: swift current\n",
      "#361: sidney\n",
      "#362: bystryy istok\n",
      "#363: wau\n",
      "#364: pimentel\n",
      "#365: walvis bay\n",
      "#366: naze\n",
      "#367: port moresby\n",
      "#368: bosaso\n",
      "#369: plettenberg bay\n",
      "#370: uthal\n",
      "#371: aleksandrov gay\n",
      "#372: lafayette\n",
      "city not found\n",
      "#373: yanchukan\n",
      "#374: pacific grove\n",
      "#375: kungurtug\n",
      "#376: prado\n",
      "city not found\n",
      "#377: shchelyayur\n",
      "#378: cajati\n",
      "#379: nome\n",
      "#380: nishihara\n",
      "city not found\n",
      "#381: shkotovo-22\n",
      "#382: san blas\n",
      "#383: carnarvon\n",
      "city not found\n",
      "#384: tabiauea\n",
      "#385: pocri\n",
      "#386: cayenne\n",
      "#387: deputatskiy\n",
      "#388: tuatapere\n",
      "#389: bambous virieux\n",
      "#390: san policarpo\n",
      "#391: saint-leu\n",
      "#392: dashitou\n",
      "#393: toktogul\n",
      "#394: cochrane\n",
      "#395: port macquarie\n",
      "#396: sistranda\n",
      "#397: koulikoro\n",
      "#398: kulhudhuffushi\n",
      "#399: fairbanks\n",
      "city not found\n",
      "#400: zachagansk\n",
      "#401: tortoli\n",
      "#402: adrar\n",
      "#403: graaff-reinet\n",
      "#404: leshukonskoye\n",
      "#405: mananjary\n",
      "#406: manadhoo\n",
      "#407: shenjiamen\n",
      "#408: liwale\n",
      "#409: petukhovo\n",
      "#410: teya\n",
      "#411: at-bashi\n",
      "#412: pevek\n",
      "#413: sinnamary\n",
      "#414: diapaga\n",
      "#415: kaitangata\n",
      "#416: makhinjauri\n",
      "#417: lakes entrance\n",
      "#418: kavieng\n",
      "#419: kiama\n",
      "#420: lake charles\n",
      "#421: smirnykh\n",
      "#422: pundaguitan\n",
      "#423: manono\n",
      "#424: fortuna\n",
      "#425: kropotkin\n",
      "#426: ampanihy\n",
      "#427: nalut\n",
      "#428: mwandiga\n",
      "#429: polovinnoye\n",
      "#430: moreira sales\n",
      "#431: mogadishu\n",
      "#432: waipawa\n",
      "#433: camacha\n",
      "#434: geraldton\n",
      "#435: alice\n",
      "#436: kilindoni\n",
      "#437: umba\n",
      "#438: vila franca do campo\n",
      "#439: berdigestyakh\n",
      "#440: trabzon\n",
      "#441: bitung\n",
      "#442: keti bandar\n",
      "#443: korla\n",
      "#444: mattawa\n",
      "#445: sawakin\n",
      "#446: lamu\n",
      "#447: chicama\n",
      "#448: pandan\n",
      "#449: campobasso\n",
      "#450: college\n",
      "#451: tucuma\n",
      "#452: leningradskiy\n",
      "#453: le port\n",
      "#454: lewiston\n",
      "city not found\n",
      "#455: lalomanu\n",
      "#456: lugovoy\n",
      "#457: seddon\n",
      "#458: bodden town\n",
      "#459: gazojak\n",
      "#460: coquimbo\n",
      "#461: portales\n",
      "#462: kasongo-lunda\n",
      "#463: lima duarte\n",
      "#464: opunake\n",
      "#465: meulaboh\n",
      "#466: mogzon\n",
      "#467: ancud\n",
      "#468: havre-saint-pierre\n",
      "city not found\n",
      "#469: dolbeau\n",
      "#470: dunmore town\n",
      "#471: tilichiki\n",
      "city not found\n",
      "#472: kegayli\n",
      "city not found\n",
      "#473: hihifo\n",
      "#474: aurillac\n",
      "#475: durban\n",
      "#476: jutai\n",
      "#477: palmer\n",
      "#478: liverpool\n",
      "#479: klaksvik\n",
      "#480: metu\n",
      "#481: yashan\n",
      "#482: gornopravdinsk\n",
      "#483: beyneu\n",
      "#484: baturaja\n",
      "#485: kosonsoy\n",
      "#486: hualmay\n",
      "city not found\n",
      "#487: toliary\n",
      "city not found\n",
      "#488: umzimvubu\n",
      "#489: outlook\n",
      "#490: lae\n",
      "#491: kiunga\n",
      "#492: qianan\n",
      "#493: vilhena\n",
      "#494: menongue\n",
      "#495: parakou\n",
      "city not found\n",
      "#496: scottsburgh\n",
      "#497: gamba\n",
      "#498: bulungu\n",
      "#499: mao\n",
      "#500: shaoguan\n"
     ]
    },
    {
     "name": "stdout",
     "output_type": "stream",
     "text": [
      "#501: kenora\n",
      "#502: goderich\n",
      "#503: roma\n",
      "#504: paungde\n",
      "#505: vestmannaeyjar\n",
      "#506: angoram\n",
      "#507: baghmara\n",
      "city not found\n",
      "#508: sentyabrskiy\n",
      "#509: krasnogorsk\n",
      "#510: pangai\n",
      "#511: praia da vitoria\n",
      "#512: pochutla\n",
      "#513: bouloupari\n",
      "#514: tahe\n",
      "#515: miyako\n",
      "#516: coffs harbour\n",
      "#517: cap-aux-meules\n",
      "city not found\n",
      "#518: bolungarvik\n",
      "#519: hami\n",
      "#520: ojinaga\n",
      "#521: khomutovka\n",
      "#522: port blair\n",
      "#523: hannibal\n",
      "#524: waitati\n",
      "#525: kudahuvadhoo\n",
      "#526: daru\n",
      "#527: yerbogachen\n",
      "city not found\n",
      "#528: kadykchan\n",
      "city not found\n",
      "#529: sedelnikovo\n",
      "#530: muscat\n",
      "#531: balugo\n",
      "#532: marsaxlokk\n",
      "#533: marquette\n",
      "#534: port augusta\n",
      "#535: puerto ayacucho\n",
      "#536: bucerias\n",
      "#537: lagos de moreno\n",
      "#538: tigzirt\n",
      "#539: storforshei\n",
      "city not found\n",
      "#540: grand river south east\n"
     ]
    }
   ],
   "source": [
    "url = \"http://api.openweathermap.org/data/2.5/weather?\"\n",
    "\n",
    "\n",
    "lat = []\n",
    "lng = []\n",
    "max_temp = []\n",
    "humidity = []\n",
    "cloudiness = []\n",
    "wind_speed = []\n",
    "country = []\n",
    "date = []\n",
    "record = 0\n",
    "\n",
    "length = len(cities)\n",
    "cities_found = []\n",
    "# from datetime import datetime as dt\n",
    "\n",
    "for city in cities: \n",
    "    \n",
    "    query_url = url + \"appid=\" + weather_api_key + \"&q=\" + city+ \"&units=imperial\" \n",
    "#     print(query_url)\n",
    "    weather_response = requests.get(query_url)\n",
    "    weather_json = weather_response.json()\n",
    "    \n",
    "#     pprint(weather_json)\n",
    "# place an exception handling here   \n",
    "\n",
    "    record += 1\n",
    "    \n",
    "    try: \n",
    "        \n",
    "        lat.append(weather_json['coord']['lat'])\n",
    "        lng.append(weather_json['coord']['lon'])\n",
    "        max_temp.append(weather_json['main']['temp_max'])\n",
    "        humidity.append(weather_json['main']['humidity'])\n",
    "        cloudiness.append(weather_json['clouds']['all'])\n",
    "        wind_speed.append(weather_json['wind']['speed'])\n",
    "        country.append(weather_json['sys']['country'])\n",
    "        date.append(weather_json['dt'])\n",
    "        cities_found.append(weather_json['name'])\n",
    "    \n",
    "    except:\n",
    "        print (\"city not found\")\n",
    "        \n",
    "        \n",
    "    print(f\"#{record}: {city}\")"
   ]
  },
  {
   "cell_type": "code",
   "execution_count": null,
   "metadata": {},
   "outputs": [],
   "source": [
    "#Created empty list for each attribute to be leveraged in the analysis.  Ran into issues with the loop initially then\n",
    "# realized that it's due to missing exception handling.  "
   ]
  },
  {
   "cell_type": "markdown",
   "metadata": {},
   "source": [
    "### Convert Raw Data to DataFrame\n",
    "* Export the city data into a .csv.\n",
    "* Display the DataFrame"
   ]
  },
  {
   "cell_type": "code",
   "execution_count": 8,
   "metadata": {},
   "outputs": [
    {
     "data": {
      "text/html": [
       "<div>\n",
       "<style scoped>\n",
       "    .dataframe tbody tr th:only-of-type {\n",
       "        vertical-align: middle;\n",
       "    }\n",
       "\n",
       "    .dataframe tbody tr th {\n",
       "        vertical-align: top;\n",
       "    }\n",
       "\n",
       "    .dataframe thead th {\n",
       "        text-align: right;\n",
       "    }\n",
       "</style>\n",
       "<table border=\"1\" class=\"dataframe\">\n",
       "  <thead>\n",
       "    <tr style=\"text-align: right;\">\n",
       "      <th></th>\n",
       "      <th>City</th>\n",
       "      <th>Lat</th>\n",
       "      <th>Lng</th>\n",
       "      <th>Max Temp</th>\n",
       "      <th>Humidity</th>\n",
       "      <th>Cloudiness</th>\n",
       "      <th>Wind Speed</th>\n",
       "      <th>Country</th>\n",
       "      <th>Date</th>\n",
       "    </tr>\n",
       "  </thead>\n",
       "  <tbody>\n",
       "    <tr>\n",
       "      <th>0</th>\n",
       "      <td>Lazurne</td>\n",
       "      <td>46.08</td>\n",
       "      <td>32.53</td>\n",
       "      <td>48.20</td>\n",
       "      <td>93</td>\n",
       "      <td>75</td>\n",
       "      <td>6.71</td>\n",
       "      <td>UA</td>\n",
       "      <td>1604287136</td>\n",
       "    </tr>\n",
       "    <tr>\n",
       "      <th>1</th>\n",
       "      <td>Rikitea</td>\n",
       "      <td>-23.12</td>\n",
       "      <td>-134.97</td>\n",
       "      <td>74.17</td>\n",
       "      <td>86</td>\n",
       "      <td>72</td>\n",
       "      <td>24.36</td>\n",
       "      <td>PF</td>\n",
       "      <td>1604286756</td>\n",
       "    </tr>\n",
       "    <tr>\n",
       "      <th>2</th>\n",
       "      <td>Elizabeth City</td>\n",
       "      <td>36.29</td>\n",
       "      <td>-76.25</td>\n",
       "      <td>59.00</td>\n",
       "      <td>93</td>\n",
       "      <td>1</td>\n",
       "      <td>12.75</td>\n",
       "      <td>US</td>\n",
       "      <td>1604287136</td>\n",
       "    </tr>\n",
       "    <tr>\n",
       "      <th>3</th>\n",
       "      <td>Bethel</td>\n",
       "      <td>41.37</td>\n",
       "      <td>-73.41</td>\n",
       "      <td>44.60</td>\n",
       "      <td>65</td>\n",
       "      <td>75</td>\n",
       "      <td>9.17</td>\n",
       "      <td>US</td>\n",
       "      <td>1604287345</td>\n",
       "    </tr>\n",
       "    <tr>\n",
       "      <th>4</th>\n",
       "      <td>Hong Kong</td>\n",
       "      <td>22.29</td>\n",
       "      <td>114.16</td>\n",
       "      <td>81.00</td>\n",
       "      <td>60</td>\n",
       "      <td>100</td>\n",
       "      <td>1.01</td>\n",
       "      <td>HK</td>\n",
       "      <td>1604287285</td>\n",
       "    </tr>\n",
       "    <tr>\n",
       "      <th>...</th>\n",
       "      <td>...</td>\n",
       "      <td>...</td>\n",
       "      <td>...</td>\n",
       "      <td>...</td>\n",
       "      <td>...</td>\n",
       "      <td>...</td>\n",
       "      <td>...</td>\n",
       "      <td>...</td>\n",
       "      <td>...</td>\n",
       "    </tr>\n",
       "    <tr>\n",
       "      <th>488</th>\n",
       "      <td>Puerto Ayacucho</td>\n",
       "      <td>5.66</td>\n",
       "      <td>-67.62</td>\n",
       "      <td>73.53</td>\n",
       "      <td>95</td>\n",
       "      <td>100</td>\n",
       "      <td>0.36</td>\n",
       "      <td>VE</td>\n",
       "      <td>1604287284</td>\n",
       "    </tr>\n",
       "    <tr>\n",
       "      <th>489</th>\n",
       "      <td>Bucerías</td>\n",
       "      <td>20.75</td>\n",
       "      <td>-105.33</td>\n",
       "      <td>77.41</td>\n",
       "      <td>85</td>\n",
       "      <td>1</td>\n",
       "      <td>4.27</td>\n",
       "      <td>MX</td>\n",
       "      <td>1604287213</td>\n",
       "    </tr>\n",
       "    <tr>\n",
       "      <th>490</th>\n",
       "      <td>Lagos de Moreno</td>\n",
       "      <td>21.35</td>\n",
       "      <td>-101.92</td>\n",
       "      <td>55.09</td>\n",
       "      <td>44</td>\n",
       "      <td>0</td>\n",
       "      <td>11.45</td>\n",
       "      <td>MX</td>\n",
       "      <td>1604287191</td>\n",
       "    </tr>\n",
       "    <tr>\n",
       "      <th>491</th>\n",
       "      <td>Tigzirt</td>\n",
       "      <td>36.89</td>\n",
       "      <td>4.12</td>\n",
       "      <td>63.75</td>\n",
       "      <td>58</td>\n",
       "      <td>0</td>\n",
       "      <td>3.49</td>\n",
       "      <td>DZ</td>\n",
       "      <td>1604287285</td>\n",
       "    </tr>\n",
       "    <tr>\n",
       "      <th>492</th>\n",
       "      <td>Storforshei</td>\n",
       "      <td>66.40</td>\n",
       "      <td>14.52</td>\n",
       "      <td>42.60</td>\n",
       "      <td>80</td>\n",
       "      <td>100</td>\n",
       "      <td>6.96</td>\n",
       "      <td>NO</td>\n",
       "      <td>1604287285</td>\n",
       "    </tr>\n",
       "  </tbody>\n",
       "</table>\n",
       "<p>493 rows × 9 columns</p>\n",
       "</div>"
      ],
      "text/plain": [
       "                City    Lat     Lng  Max Temp  Humidity  Cloudiness  \\\n",
       "0            Lazurne  46.08   32.53     48.20        93          75   \n",
       "1            Rikitea -23.12 -134.97     74.17        86          72   \n",
       "2     Elizabeth City  36.29  -76.25     59.00        93           1   \n",
       "3             Bethel  41.37  -73.41     44.60        65          75   \n",
       "4          Hong Kong  22.29  114.16     81.00        60         100   \n",
       "..               ...    ...     ...       ...       ...         ...   \n",
       "488  Puerto Ayacucho   5.66  -67.62     73.53        95         100   \n",
       "489         Bucerías  20.75 -105.33     77.41        85           1   \n",
       "490  Lagos de Moreno  21.35 -101.92     55.09        44           0   \n",
       "491          Tigzirt  36.89    4.12     63.75        58           0   \n",
       "492      Storforshei  66.40   14.52     42.60        80         100   \n",
       "\n",
       "     Wind Speed Country        Date  \n",
       "0          6.71      UA  1604287136  \n",
       "1         24.36      PF  1604286756  \n",
       "2         12.75      US  1604287136  \n",
       "3          9.17      US  1604287345  \n",
       "4          1.01      HK  1604287285  \n",
       "..          ...     ...         ...  \n",
       "488        0.36      VE  1604287284  \n",
       "489        4.27      MX  1604287213  \n",
       "490       11.45      MX  1604287191  \n",
       "491        3.49      DZ  1604287285  \n",
       "492        6.96      NO  1604287285  \n",
       "\n",
       "[493 rows x 9 columns]"
      ]
     },
     "execution_count": 8,
     "metadata": {},
     "output_type": "execute_result"
    }
   ],
   "source": [
    "weather_data = pd.DataFrame({\"City\": cities_found,\n",
    "    \"Lat\": lat,\n",
    "    \"Lng\": lng,\n",
    "    \"Max Temp\": max_temp,\n",
    "    \"Humidity\": humidity,\n",
    "    \"Cloudiness\": cloudiness,\n",
    "    \"Wind Speed\": wind_speed,\n",
    "    \"Country\": country,\n",
    "    \"Date\": date})\n",
    "\n",
    "weather_data"
   ]
  },
  {
   "cell_type": "code",
   "execution_count": 9,
   "metadata": {},
   "outputs": [
    {
     "data": {
      "text/html": [
       "<div>\n",
       "<style scoped>\n",
       "    .dataframe tbody tr th:only-of-type {\n",
       "        vertical-align: middle;\n",
       "    }\n",
       "\n",
       "    .dataframe tbody tr th {\n",
       "        vertical-align: top;\n",
       "    }\n",
       "\n",
       "    .dataframe thead th {\n",
       "        text-align: right;\n",
       "    }\n",
       "</style>\n",
       "<table border=\"1\" class=\"dataframe\">\n",
       "  <thead>\n",
       "    <tr style=\"text-align: right;\">\n",
       "      <th></th>\n",
       "      <th>Lat</th>\n",
       "      <th>Lng</th>\n",
       "      <th>Max Temp</th>\n",
       "      <th>Humidity</th>\n",
       "      <th>Cloudiness</th>\n",
       "      <th>Wind Speed</th>\n",
       "      <th>Date</th>\n",
       "    </tr>\n",
       "  </thead>\n",
       "  <tbody>\n",
       "    <tr>\n",
       "      <th>count</th>\n",
       "      <td>493.000000</td>\n",
       "      <td>493.000000</td>\n",
       "      <td>493.000000</td>\n",
       "      <td>493.000000</td>\n",
       "      <td>493.000000</td>\n",
       "      <td>493.000000</td>\n",
       "      <td>4.930000e+02</td>\n",
       "    </tr>\n",
       "    <tr>\n",
       "      <th>mean</th>\n",
       "      <td>19.881136</td>\n",
       "      <td>17.162089</td>\n",
       "      <td>57.169229</td>\n",
       "      <td>72.675456</td>\n",
       "      <td>51.862069</td>\n",
       "      <td>8.593529</td>\n",
       "      <td>1.604287e+09</td>\n",
       "    </tr>\n",
       "    <tr>\n",
       "      <th>std</th>\n",
       "      <td>34.044957</td>\n",
       "      <td>90.689242</td>\n",
       "      <td>21.831913</td>\n",
       "      <td>19.642024</td>\n",
       "      <td>39.978465</td>\n",
       "      <td>6.333324</td>\n",
       "      <td>1.255326e+02</td>\n",
       "    </tr>\n",
       "    <tr>\n",
       "      <th>min</th>\n",
       "      <td>-54.800000</td>\n",
       "      <td>-175.200000</td>\n",
       "      <td>-14.440000</td>\n",
       "      <td>8.000000</td>\n",
       "      <td>0.000000</td>\n",
       "      <td>0.360000</td>\n",
       "      <td>1.604287e+09</td>\n",
       "    </tr>\n",
       "    <tr>\n",
       "      <th>25%</th>\n",
       "      <td>-8.570000</td>\n",
       "      <td>-62.050000</td>\n",
       "      <td>42.800000</td>\n",
       "      <td>63.000000</td>\n",
       "      <td>4.000000</td>\n",
       "      <td>3.850000</td>\n",
       "      <td>1.604287e+09</td>\n",
       "    </tr>\n",
       "    <tr>\n",
       "      <th>50%</th>\n",
       "      <td>25.700000</td>\n",
       "      <td>20.040000</td>\n",
       "      <td>62.600000</td>\n",
       "      <td>77.000000</td>\n",
       "      <td>60.000000</td>\n",
       "      <td>6.930000</td>\n",
       "      <td>1.604287e+09</td>\n",
       "    </tr>\n",
       "    <tr>\n",
       "      <th>75%</th>\n",
       "      <td>49.490000</td>\n",
       "      <td>91.390000</td>\n",
       "      <td>75.180000</td>\n",
       "      <td>87.000000</td>\n",
       "      <td>90.000000</td>\n",
       "      <td>11.450000</td>\n",
       "      <td>1.604287e+09</td>\n",
       "    </tr>\n",
       "    <tr>\n",
       "      <th>max</th>\n",
       "      <td>78.220000</td>\n",
       "      <td>179.320000</td>\n",
       "      <td>96.800000</td>\n",
       "      <td>100.000000</td>\n",
       "      <td>100.000000</td>\n",
       "      <td>51.670000</td>\n",
       "      <td>1.604287e+09</td>\n",
       "    </tr>\n",
       "  </tbody>\n",
       "</table>\n",
       "</div>"
      ],
      "text/plain": [
       "              Lat         Lng    Max Temp    Humidity  Cloudiness  Wind Speed  \\\n",
       "count  493.000000  493.000000  493.000000  493.000000  493.000000  493.000000   \n",
       "mean    19.881136   17.162089   57.169229   72.675456   51.862069    8.593529   \n",
       "std     34.044957   90.689242   21.831913   19.642024   39.978465    6.333324   \n",
       "min    -54.800000 -175.200000  -14.440000    8.000000    0.000000    0.360000   \n",
       "25%     -8.570000  -62.050000   42.800000   63.000000    4.000000    3.850000   \n",
       "50%     25.700000   20.040000   62.600000   77.000000   60.000000    6.930000   \n",
       "75%     49.490000   91.390000   75.180000   87.000000   90.000000   11.450000   \n",
       "max     78.220000  179.320000   96.800000  100.000000  100.000000   51.670000   \n",
       "\n",
       "               Date  \n",
       "count  4.930000e+02  \n",
       "mean   1.604287e+09  \n",
       "std    1.255326e+02  \n",
       "min    1.604287e+09  \n",
       "25%    1.604287e+09  \n",
       "50%    1.604287e+09  \n",
       "75%    1.604287e+09  \n",
       "max    1.604287e+09  "
      ]
     },
     "execution_count": 9,
     "metadata": {},
     "output_type": "execute_result"
    }
   ],
   "source": [
    "weather_data.describe()"
   ]
  },
  {
   "cell_type": "code",
   "execution_count": 10,
   "metadata": {},
   "outputs": [],
   "source": [
    "#writing to a CSV\n",
    "\n",
    "weather_data.to_csv(output_data_file, index = False)\n"
   ]
  },
  {
   "cell_type": "markdown",
   "metadata": {},
   "source": [
    "## Inspect the data and remove the cities where the humidity > 100%.\n",
    "----\n",
    "Skip this step if there are no cities that have humidity > 100%. "
   ]
  },
  {
   "cell_type": "code",
   "execution_count": 15,
   "metadata": {},
   "outputs": [],
   "source": [
    "humid_cities = weather_data[weather_data[\"Humidity\"] > 90].index\n",
    "\n",
    "#There were no cities with humidity over 100% so, for the purpose of getting an exercise, lowered the threshold to 90%..."
   ]
  },
  {
   "cell_type": "code",
   "execution_count": 16,
   "metadata": {},
   "outputs": [
    {
     "data": {
      "text/plain": [
       "Int64Index([  0,   2,  16,  23,  38,  41,  47,  48,  54,  60,  61,  64,  67,\n",
       "             68,  69,  82,  86,  89,  90,  93,  94,  95,  97, 108, 109, 111,\n",
       "            118, 122, 126, 132, 147, 148, 166, 179, 188, 190, 192, 196, 202,\n",
       "            205, 208, 215, 217, 219, 228, 232, 234, 239, 241, 243, 250, 251,\n",
       "            265, 266, 267, 274, 279, 284, 286, 292, 294, 297, 299, 308, 313,\n",
       "            318, 321, 323, 342, 344, 345, 350, 351, 367, 368, 373, 376, 388,\n",
       "            392, 393, 396, 404, 418, 426, 433, 435, 436, 440, 442, 454, 455,\n",
       "            465, 470, 476, 485, 488],\n",
       "           dtype='int64')"
      ]
     },
     "execution_count": 16,
     "metadata": {},
     "output_type": "execute_result"
    }
   ],
   "source": [
    "#  Get the indices of cities that have humidity over 100%.\n",
    "humid_cities"
   ]
  },
  {
   "cell_type": "code",
   "execution_count": 17,
   "metadata": {},
   "outputs": [
    {
     "data": {
      "text/html": [
       "<div>\n",
       "<style scoped>\n",
       "    .dataframe tbody tr th:only-of-type {\n",
       "        vertical-align: middle;\n",
       "    }\n",
       "\n",
       "    .dataframe tbody tr th {\n",
       "        vertical-align: top;\n",
       "    }\n",
       "\n",
       "    .dataframe thead th {\n",
       "        text-align: right;\n",
       "    }\n",
       "</style>\n",
       "<table border=\"1\" class=\"dataframe\">\n",
       "  <thead>\n",
       "    <tr style=\"text-align: right;\">\n",
       "      <th></th>\n",
       "      <th>City</th>\n",
       "      <th>Lat</th>\n",
       "      <th>Lng</th>\n",
       "      <th>Max Temp</th>\n",
       "      <th>Humidity</th>\n",
       "      <th>Cloudiness</th>\n",
       "      <th>Wind Speed</th>\n",
       "      <th>Country</th>\n",
       "      <th>Date</th>\n",
       "    </tr>\n",
       "  </thead>\n",
       "  <tbody>\n",
       "    <tr>\n",
       "      <th>1</th>\n",
       "      <td>Rikitea</td>\n",
       "      <td>-23.12</td>\n",
       "      <td>-134.97</td>\n",
       "      <td>74.17</td>\n",
       "      <td>86</td>\n",
       "      <td>72</td>\n",
       "      <td>24.36</td>\n",
       "      <td>PF</td>\n",
       "      <td>1604286756</td>\n",
       "    </tr>\n",
       "    <tr>\n",
       "      <th>3</th>\n",
       "      <td>Bethel</td>\n",
       "      <td>41.37</td>\n",
       "      <td>-73.41</td>\n",
       "      <td>44.60</td>\n",
       "      <td>65</td>\n",
       "      <td>75</td>\n",
       "      <td>9.17</td>\n",
       "      <td>US</td>\n",
       "      <td>1604287345</td>\n",
       "    </tr>\n",
       "    <tr>\n",
       "      <th>4</th>\n",
       "      <td>Hong Kong</td>\n",
       "      <td>22.29</td>\n",
       "      <td>114.16</td>\n",
       "      <td>81.00</td>\n",
       "      <td>60</td>\n",
       "      <td>100</td>\n",
       "      <td>1.01</td>\n",
       "      <td>HK</td>\n",
       "      <td>1604287285</td>\n",
       "    </tr>\n",
       "    <tr>\n",
       "      <th>5</th>\n",
       "      <td>Nelson Bay</td>\n",
       "      <td>-32.72</td>\n",
       "      <td>152.15</td>\n",
       "      <td>71.60</td>\n",
       "      <td>56</td>\n",
       "      <td>40</td>\n",
       "      <td>20.80</td>\n",
       "      <td>AU</td>\n",
       "      <td>1604287345</td>\n",
       "    </tr>\n",
       "    <tr>\n",
       "      <th>6</th>\n",
       "      <td>Mataura</td>\n",
       "      <td>-46.19</td>\n",
       "      <td>168.86</td>\n",
       "      <td>57.00</td>\n",
       "      <td>65</td>\n",
       "      <td>40</td>\n",
       "      <td>10.00</td>\n",
       "      <td>NZ</td>\n",
       "      <td>1604286759</td>\n",
       "    </tr>\n",
       "    <tr>\n",
       "      <th>...</th>\n",
       "      <td>...</td>\n",
       "      <td>...</td>\n",
       "      <td>...</td>\n",
       "      <td>...</td>\n",
       "      <td>...</td>\n",
       "      <td>...</td>\n",
       "      <td>...</td>\n",
       "      <td>...</td>\n",
       "      <td>...</td>\n",
       "    </tr>\n",
       "    <tr>\n",
       "      <th>487</th>\n",
       "      <td>Port Augusta</td>\n",
       "      <td>-32.50</td>\n",
       "      <td>137.77</td>\n",
       "      <td>86.00</td>\n",
       "      <td>27</td>\n",
       "      <td>28</td>\n",
       "      <td>11.41</td>\n",
       "      <td>AU</td>\n",
       "      <td>1604287283</td>\n",
       "    </tr>\n",
       "    <tr>\n",
       "      <th>489</th>\n",
       "      <td>Bucerías</td>\n",
       "      <td>20.75</td>\n",
       "      <td>-105.33</td>\n",
       "      <td>77.41</td>\n",
       "      <td>85</td>\n",
       "      <td>1</td>\n",
       "      <td>4.27</td>\n",
       "      <td>MX</td>\n",
       "      <td>1604287213</td>\n",
       "    </tr>\n",
       "    <tr>\n",
       "      <th>490</th>\n",
       "      <td>Lagos de Moreno</td>\n",
       "      <td>21.35</td>\n",
       "      <td>-101.92</td>\n",
       "      <td>55.09</td>\n",
       "      <td>44</td>\n",
       "      <td>0</td>\n",
       "      <td>11.45</td>\n",
       "      <td>MX</td>\n",
       "      <td>1604287191</td>\n",
       "    </tr>\n",
       "    <tr>\n",
       "      <th>491</th>\n",
       "      <td>Tigzirt</td>\n",
       "      <td>36.89</td>\n",
       "      <td>4.12</td>\n",
       "      <td>63.75</td>\n",
       "      <td>58</td>\n",
       "      <td>0</td>\n",
       "      <td>3.49</td>\n",
       "      <td>DZ</td>\n",
       "      <td>1604287285</td>\n",
       "    </tr>\n",
       "    <tr>\n",
       "      <th>492</th>\n",
       "      <td>Storforshei</td>\n",
       "      <td>66.40</td>\n",
       "      <td>14.52</td>\n",
       "      <td>42.60</td>\n",
       "      <td>80</td>\n",
       "      <td>100</td>\n",
       "      <td>6.96</td>\n",
       "      <td>NO</td>\n",
       "      <td>1604287285</td>\n",
       "    </tr>\n",
       "  </tbody>\n",
       "</table>\n",
       "<p>397 rows × 9 columns</p>\n",
       "</div>"
      ],
      "text/plain": [
       "                City    Lat     Lng  Max Temp  Humidity  Cloudiness  \\\n",
       "1            Rikitea -23.12 -134.97     74.17        86          72   \n",
       "3             Bethel  41.37  -73.41     44.60        65          75   \n",
       "4          Hong Kong  22.29  114.16     81.00        60         100   \n",
       "5         Nelson Bay -32.72  152.15     71.60        56          40   \n",
       "6            Mataura -46.19  168.86     57.00        65          40   \n",
       "..               ...    ...     ...       ...       ...         ...   \n",
       "487     Port Augusta -32.50  137.77     86.00        27          28   \n",
       "489         Bucerías  20.75 -105.33     77.41        85           1   \n",
       "490  Lagos de Moreno  21.35 -101.92     55.09        44           0   \n",
       "491          Tigzirt  36.89    4.12     63.75        58           0   \n",
       "492      Storforshei  66.40   14.52     42.60        80         100   \n",
       "\n",
       "     Wind Speed Country        Date  \n",
       "1         24.36      PF  1604286756  \n",
       "3          9.17      US  1604287345  \n",
       "4          1.01      HK  1604287285  \n",
       "5         20.80      AU  1604287345  \n",
       "6         10.00      NZ  1604286759  \n",
       "..          ...     ...         ...  \n",
       "487       11.41      AU  1604287283  \n",
       "489        4.27      MX  1604287213  \n",
       "490       11.45      MX  1604287191  \n",
       "491        3.49      DZ  1604287285  \n",
       "492        6.96      NO  1604287285  \n",
       "\n",
       "[397 rows x 9 columns]"
      ]
     },
     "execution_count": 17,
     "metadata": {},
     "output_type": "execute_result"
    }
   ],
   "source": [
    "# Make a new DataFrame equal to the city data to drop all humidity outliers by index.\n",
    "# Passing \"inplace=False\" will make a copy of the city_data DataFrame, which we call \"clean_city_data\".\n",
    "\n",
    "clean_city_data = weather_data.drop(humid_cities, inplace = False)\n",
    "clean_city_data"
   ]
  },
  {
   "cell_type": "markdown",
   "metadata": {},
   "source": [
    "## Plotting the Data\n",
    "* Use proper labeling of the plots using plot titles (including date of analysis) and axes labels.\n",
    "* Save the plotted figures as .pngs."
   ]
  },
  {
   "cell_type": "markdown",
   "metadata": {},
   "source": [
    "## Latitude vs. Temperature Plot"
   ]
  },
  {
   "cell_type": "code",
   "execution_count": 52,
   "metadata": {},
   "outputs": [
    {
     "data": {
      "image/png": "[encoded data removed]",
      "text/plain": [
       "<Figure size 432x288 with 1 Axes>"
      ]
     },
     "metadata": {
      "needs_background": "light"
     },
     "output_type": "display_data"
    }
   ],
   "source": [
    "# Generate a scatter plot of latidude vs. Max Temperature\n",
    "\n",
    "# scatter_plot_df\n",
    "\n",
    "plt.scatter(lat, max_temp, marker=\"o\", facecolors=\"blue\", edgecolors=\"black\")\n",
    "weather_data\n",
    "plt.xlabel(\"Latitude\")\n",
    "plt.ylabel(\"Max Temperature (F)\")\n",
    "plt.savefig(\"../Images/lat_vs_temp.png\")"
   ]
  },
  {
   "cell_type": "code",
   "execution_count": null,
   "metadata": {},
   "outputs": [],
   "source": [
    "#generally, no surprise with the temperature change observed here as a city gets further away from the equator...  \n",
    "#Found it a little odd that, no matter the size of the dataset or the number of times I ran the code, there seem to be \n",
    "#more data points (or cities in this analysis) in the tip of northern hemisphere vs. the tip of southern hemisphere...  \n"
   ]
  },
  {
   "cell_type": "markdown",
   "metadata": {},
   "source": [
    "## Latitude vs. Humidity Plot"
   ]
  },
  {
   "cell_type": "code",
   "execution_count": 53,
   "metadata": {},
   "outputs": [
    {
     "data": {
      "image/png": "[encoded data removed]",
      "text/plain": [
       "<Figure size 432x288 with 1 Axes>"
      ]
     },
     "metadata": {
      "needs_background": "light"
     },
     "output_type": "display_data"
    }
   ],
   "source": [
    "# Generate a scatter plot of latidude vs. Humidity\n",
    "\n",
    "# scatter_plot_df\n",
    "\n",
    "plt.scatter(lat, humidity, marker=\"o\", facecolors=\"black\", edgecolors=\"black\")\n",
    "weather_data\n",
    "plt.xlabel(\"Latitude\")\n",
    "plt.ylabel(\"Humidity(%)\")\n",
    "plt.savefig(\"../Images/lat_vs_humid.png\")"
   ]
  },
  {
   "cell_type": "code",
   "execution_count": null,
   "metadata": {},
   "outputs": [],
   "source": [
    "#Not seeing any strong correlation between latitude and humidity.  I noticed that the bottom right corner is fairly empty\n",
    "#which I beleive means that the cities near the tip of the northern hemisphere teen to be more humid...  Also right near\n",
    "# the equator."
   ]
  },
  {
   "cell_type": "markdown",
   "metadata": {},
   "source": [
    "## Latitude vs. Cloudiness Plot"
   ]
  },
  {
   "cell_type": "code",
   "execution_count": 54,
   "metadata": {},
   "outputs": [
    {
     "data": {
      "image/png": "[encoded data removed]",
      "text/plain": [
       "<Figure size 432x288 with 1 Axes>"
      ]
     },
     "metadata": {
      "needs_background": "light"
     },
     "output_type": "display_data"
    }
   ],
   "source": [
    "plt.scatter(lat, cloudiness, marker=\"o\", facecolors=\"red\", edgecolors=\"black\")\n",
    "weather_data\n",
    "plt.xlabel(\"Latitude\")\n",
    "plt.ylabel(\"Cloudiness(%)\")\n",
    "plt.savefig(\"../Images/lat_vs_cloud.png\")"
   ]
  },
  {
   "cell_type": "code",
   "execution_count": null,
   "metadata": {},
   "outputs": [],
   "source": [
    "#Need to understand why there seems to be clutters at 0% and 100% Cloudiness...  "
   ]
  },
  {
   "cell_type": "markdown",
   "metadata": {},
   "source": [
    "## Latitude vs. Wind Speed Plot"
   ]
  },
  {
   "cell_type": "code",
   "execution_count": 55,
   "metadata": {},
   "outputs": [
    {
     "data": {
      "image/png": "[encoded data removed]",
      "text/plain": [
       "<Figure size 432x288 with 1 Axes>"
      ]
     },
     "metadata": {
      "needs_background": "light"
     },
     "output_type": "display_data"
    }
   ],
   "source": [
    "plt.scatter(lat, wind_speed, marker=\"o\", facecolors=\"green\", edgecolors=\"black\")\n",
    "weather_data\n",
    "plt.xlabel(\"Latitude\")\n",
    "plt.ylabel(\"Wind Speed (mph)\")\n",
    "plt.savefig(\"../Images/lat_vs_wind.png\")"
   ]
  },
  {
   "cell_type": "code",
   "execution_count": null,
   "metadata": {},
   "outputs": [],
   "source": [
    "#in both hemispheres, large clusters in wind speed < 10 mph"
   ]
  },
  {
   "cell_type": "markdown",
   "metadata": {},
   "source": [
    "## Linear Regression"
   ]
  },
  {
   "cell_type": "code",
   "execution_count": 22,
   "metadata": {},
   "outputs": [
    {
     "data": {
      "text/plain": [
       "City           object\n",
       "Lat           float64\n",
       "Lng           float64\n",
       "Max Temp      float64\n",
       "Humidity        int64\n",
       "Cloudiness      int64\n",
       "Wind Speed    float64\n",
       "Country        object\n",
       "Date            int64\n",
       "dtype: object"
      ]
     },
     "execution_count": 22,
     "metadata": {},
     "output_type": "execute_result"
    }
   ],
   "source": [
    "weather_data.dtypes"
   ]
  },
  {
   "cell_type": "markdown",
   "metadata": {},
   "source": [
    "####  Northern Hemisphere - Max Temp vs. Latitude Linear Regression"
   ]
  },
  {
   "cell_type": "code",
   "execution_count": 58,
   "metadata": {},
   "outputs": [
    {
     "data": {
      "image/png": "[encoded data removed]",
      "text/plain": [
       "<Figure size 432x288 with 1 Axes>"
      ]
     },
     "metadata": {
      "needs_background": "light"
     },
     "output_type": "display_data"
    }
   ],
   "source": [
    "north_hemi = weather_data.loc[weather_data['Lat'] > 0 ]\n",
    "\n",
    "x_values = north_hemi [\"Lat\"]\n",
    "y_values = north_hemi[\"Max Temp\"]\n",
    "\n",
    "plt.scatter(x_values, y_values, marker=\"o\", facecolors=\"blue\", edgecolors=\"black\")\n",
    "# north_hemi\n",
    "plt.xlabel(\"Latitude\")\n",
    "plt.ylabel(\"Max Temperature (F)\")\n",
    "\n",
    "(slope, intercept, rvalue, pvalue, stderr) = linregress(x_values, y_values)\n",
    "regress_values = x_values * slope + intercept\n",
    "line_eq = \"y = \" + str(round(slope,2)) + \"x + \" + str(round(intercept,2))\n",
    "plt.scatter(x_values,y_values)\n",
    "plt.plot(x_values,regress_values,\"r-\")\n",
    "plt.annotate(line_eq,(18,36),fontsize=15,color=\"red\")\n",
    "plt.xlabel(\"Latitude\")\n",
    "plt.ylabel(\"Max Temp\")\n",
    "plt.title(\"Northern Hemisphere - Max Temp vs. Latitude Linear Regression\")\n",
    "plt.savefig(\"../Images/nor_hemi_lat_vs_temp.png\")"
   ]
  },
  {
   "cell_type": "code",
   "execution_count": 57,
   "metadata": {},
   "outputs": [
    {
     "data": {
      "text/plain": [
       "-0.87"
      ]
     },
     "execution_count": 57,
     "metadata": {},
     "output_type": "execute_result"
    }
   ],
   "source": [
    "cor_coef = round(st.pearsonr(x_values,y_values)[0],2)\n",
    "cor_coef"
   ]
  },
  {
   "cell_type": "code",
   "execution_count": 33,
   "metadata": {},
   "outputs": [
    {
     "data": {
      "text/plain": [
       "City          331\n",
       "Lat           331\n",
       "Lng           331\n",
       "Max Temp      331\n",
       "Humidity      331\n",
       "Cloudiness    331\n",
       "Wind Speed    331\n",
       "Country       331\n",
       "Date          331\n",
       "dtype: int64"
      ]
     },
     "execution_count": 33,
     "metadata": {},
     "output_type": "execute_result"
    }
   ],
   "source": [
    "north_hemi.count()"
   ]
  },
  {
   "cell_type": "markdown",
   "metadata": {},
   "source": [
    "####  Southern Hemisphere - Max Temp vs. Latitude Linear Regression"
   ]
  },
  {
   "cell_type": "code",
   "execution_count": 60,
   "metadata": {},
   "outputs": [
    {
     "data": {
      "image/png": "[encoded data removed]",
      "text/plain": [
       "<Figure size 432x288 with 1 Axes>"
      ]
     },
     "metadata": {
      "needs_background": "light"
     },
     "output_type": "display_data"
    }
   ],
   "source": [
    "south_hemi = weather_data.loc[weather_data['Lat'] < 0 ]\n",
    "\n",
    "x_values = south_hemi [\"Lat\"]\n",
    "y_values = south_hemi[\"Max Temp\"]\n",
    "\n",
    "plt.scatter(x_values, y_values, marker=\"o\", facecolors=\"blue\", edgecolors=\"black\")\n",
    "\n",
    "plt.xlabel(\"Latitude\")\n",
    "plt.ylabel(\"Max Temperature (F)\")\n",
    "\n",
    "(slope, intercept, rvalue, pvalue, stderr) = linregress(x_values, y_values)\n",
    "regress_values = x_values * slope + intercept\n",
    "line_eq = \"y = \" + str(round(slope,2)) + \"x + \" + str(round(intercept,2))\n",
    "plt.scatter(x_values,y_values)\n",
    "plt.plot(x_values,regress_values,\"r-\")\n",
    "plt.annotate(line_eq,(18,36),fontsize=15,color=\"red\")\n",
    "plt.xlabel(\"Latitude\")\n",
    "plt.ylabel(\"Max Temp\")\n",
    "plt.title(\"Southern Hemisphere - Max Temp vs. Latitude Linear Regression\")\n",
    "plt.savefig(\"../Images/south_hemi_lat_vs_temp.png\")"
   ]
  },
  {
   "cell_type": "code",
   "execution_count": 32,
   "metadata": {},
   "outputs": [
    {
     "data": {
      "text/plain": [
       "City          162\n",
       "Lat           162\n",
       "Lng           162\n",
       "Max Temp      162\n",
       "Humidity      162\n",
       "Cloudiness    162\n",
       "Wind Speed    162\n",
       "Country       162\n",
       "Date          162\n",
       "dtype: int64"
      ]
     },
     "execution_count": 32,
     "metadata": {},
     "output_type": "execute_result"
    }
   ],
   "source": [
    "south_hemi.count()"
   ]
  },
  {
   "cell_type": "code",
   "execution_count": 29,
   "metadata": {},
   "outputs": [
    {
     "data": {
      "text/plain": [
       "0.53"
      ]
     },
     "execution_count": 29,
     "metadata": {},
     "output_type": "execute_result"
    }
   ],
   "source": [
    "cor_coef = round(st.pearsonr(x_values,y_values)[0],2)\n",
    "cor_coef"
   ]
  },
  {
   "cell_type": "code",
   "execution_count": null,
   "metadata": {},
   "outputs": [],
   "source": [
    "#there's a strong negative linear relationship between lattitude and max tempearature in northern hemisphere... \n",
    "#in the southern hemisphere however, the relationship isn't as strong as it's moderately positive...\n",
    "#this could be attributed to that there are more cities in the northern hemisphere dataset vs. the southern hemisphere.\n",
    "#would be interesting to see if there were more cities near the tip of the southern hemisphere"
   ]
  },
  {
   "cell_type": "markdown",
   "metadata": {},
   "source": [
    "####  Northern Hemisphere - Humidity (%) vs. Latitude Linear Regression"
   ]
  },
  {
   "cell_type": "code",
   "execution_count": 61,
   "metadata": {},
   "outputs": [
    {
     "data": {
      "image/png": "[encoded data removed]",
      "text/plain": [
       "<Figure size 432x288 with 1 Axes>"
      ]
     },
     "metadata": {
      "needs_background": "light"
     },
     "output_type": "display_data"
    }
   ],
   "source": [
    "x_values = north_hemi [\"Lat\"]\n",
    "y_values = north_hemi[\"Humidity\"]\n",
    "\n",
    "plt.scatter(x_values, y_values, marker=\"o\", facecolors=\"blue\", edgecolors=\"black\")\n",
    "\n",
    "plt.xlabel(\"Latitude\")\n",
    "plt.ylabel(\"Humidity\")\n",
    "\n",
    "(slope, intercept, rvalue, pvalue, stderr) = linregress(x_values, y_values)\n",
    "regress_values = x_values * slope + intercept\n",
    "line_eq = \"y = \" + str(round(slope,2)) + \"x + \" + str(round(intercept,2))\n",
    "plt.scatter(x_values,y_values)\n",
    "plt.plot(x_values,regress_values,\"r-\")\n",
    "plt.annotate(line_eq,(18,36),fontsize=15,color=\"red\")\n",
    "plt.xlabel(\"Latitude\")\n",
    "plt.ylabel(\"Humidity\")\n",
    "plt.title(\"Northern Hemisphere - Humidity vs. Latitude Linear Regression\")\n",
    "plt.savefig(\"../Images/nor_hemi_lat_vs_humid.png\")"
   ]
  },
  {
   "cell_type": "code",
   "execution_count": 38,
   "metadata": {},
   "outputs": [
    {
     "data": {
      "text/plain": [
       "0.34"
      ]
     },
     "execution_count": 38,
     "metadata": {},
     "output_type": "execute_result"
    }
   ],
   "source": [
    "cor_coef = round(st.pearsonr(x_values,y_values)[0],2)\n",
    "cor_coef"
   ]
  },
  {
   "cell_type": "markdown",
   "metadata": {},
   "source": [
    "####  Southern Hemisphere - Humidity (%) vs. Latitude Linear Regression"
   ]
  },
  {
   "cell_type": "code",
   "execution_count": 62,
   "metadata": {},
   "outputs": [
    {
     "data": {
      "image/png": "[encoded data removed]",
      "text/plain": [
       "<Figure size 432x288 with 1 Axes>"
      ]
     },
     "metadata": {
      "needs_background": "light"
     },
     "output_type": "display_data"
    }
   ],
   "source": [
    "x_values = south_hemi [\"Lat\"]\n",
    "y_values = south_hemi[\"Humidity\"]\n",
    "\n",
    "plt.scatter(x_values, y_values, marker=\"o\", facecolors=\"blue\", edgecolors=\"black\")\n",
    "\n",
    "plt.xlabel(\"Latitude\")\n",
    "plt.ylabel(\"Humidity\")\n",
    "\n",
    "(slope, intercept, rvalue, pvalue, stderr) = linregress(x_values, y_values)\n",
    "regress_values = x_values * slope + intercept\n",
    "line_eq = \"y = \" + str(round(slope,2)) + \"x + \" + str(round(intercept,2))\n",
    "plt.scatter(x_values,y_values)\n",
    "plt.plot(x_values,regress_values,\"r-\")\n",
    "plt.annotate(line_eq,(18,36),fontsize=15,color=\"red\")\n",
    "plt.xlabel(\"Latitude\")\n",
    "plt.ylabel(\"Humidity\")\n",
    "plt.title(\"Southern Hemisphere - Humidity vs. Latitude Linear Regression\")\n",
    "plt.savefig(\"../Images/south_hemi_lat_vs_humid.png\")"
   ]
  },
  {
   "cell_type": "code",
   "execution_count": 36,
   "metadata": {},
   "outputs": [
    {
     "data": {
      "text/plain": [
       "0.24"
      ]
     },
     "execution_count": 36,
     "metadata": {},
     "output_type": "execute_result"
    }
   ],
   "source": [
    "cor_coef = round(st.pearsonr(x_values,y_values)[0],2)\n",
    "cor_coef"
   ]
  },
  {
   "cell_type": "code",
   "execution_count": null,
   "metadata": {},
   "outputs": [],
   "source": [
    "#weak linear relationship between latitude and humidity...  the data suggests northern hemisphere cities might experience\n",
    "#a bit more humidity as it gets further away from the equator (compared to southern hemisphere)."
   ]
  },
  {
   "cell_type": "markdown",
   "metadata": {},
   "source": [
    "####  Northern Hemisphere - Cloudiness (%) vs. Latitude Linear Regression"
   ]
  },
  {
   "cell_type": "code",
   "execution_count": 63,
   "metadata": {},
   "outputs": [
    {
     "data": {
      "image/png": "[encoded data removed]",
      "text/plain": [
       "<Figure size 432x288 with 1 Axes>"
      ]
     },
     "metadata": {
      "needs_background": "light"
     },
     "output_type": "display_data"
    }
   ],
   "source": [
    "x_values = north_hemi [\"Lat\"]\n",
    "y_values = north_hemi[\"Cloudiness\"]\n",
    "\n",
    "plt.scatter(x_values, y_values, marker=\"o\", facecolors=\"blue\", edgecolors=\"black\")\n",
    "\n",
    "plt.xlabel(\"Latitude\")\n",
    "plt.ylabel(\"Cloudiness\")\n",
    "\n",
    "(slope, intercept, rvalue, pvalue, stderr) = linregress(x_values, y_values)\n",
    "regress_values = x_values * slope + intercept\n",
    "line_eq = \"y = \" + str(round(slope,2)) + \"x + \" + str(round(intercept,2))\n",
    "plt.scatter(x_values,y_values)\n",
    "plt.plot(x_values,regress_values,\"r-\")\n",
    "plt.annotate(line_eq,(18,36),fontsize=15,color=\"red\")\n",
    "plt.xlabel(\"Latitude\")\n",
    "plt.ylabel(\"Cloudiness\")\n",
    "plt.title(\"Northern Hemisphere - Cloudiness vs. Latitude Linear Regression\")\n",
    "plt.savefig(\"../Images/nor_hemi_lat_vs_cloud.png\")"
   ]
  },
  {
   "cell_type": "code",
   "execution_count": 40,
   "metadata": {},
   "outputs": [
    {
     "data": {
      "text/plain": [
       "0.21"
      ]
     },
     "execution_count": 40,
     "metadata": {},
     "output_type": "execute_result"
    }
   ],
   "source": [
    "cor_coef = round(st.pearsonr(x_values,y_values)[0],2)\n",
    "cor_coef"
   ]
  },
  {
   "cell_type": "markdown",
   "metadata": {},
   "source": [
    "####  Southern Hemisphere - Cloudiness (%) vs. Latitude Linear Regression"
   ]
  },
  {
   "cell_type": "code",
   "execution_count": 64,
   "metadata": {},
   "outputs": [
    {
     "data": {
      "image/png": "[encoded data removed]",
      "text/plain": [
       "<Figure size 432x288 with 1 Axes>"
      ]
     },
     "metadata": {
      "needs_background": "light"
     },
     "output_type": "display_data"
    }
   ],
   "source": [
    "x_values = south_hemi [\"Lat\"]\n",
    "y_values = south_hemi[\"Cloudiness\"]\n",
    "\n",
    "plt.scatter(x_values, y_values, marker=\"o\", facecolors=\"blue\", edgecolors=\"black\")\n",
    "\n",
    "plt.xlabel(\"Latitude\")\n",
    "plt.ylabel(\"Cloudiness\")\n",
    "\n",
    "(slope, intercept, rvalue, pvalue, stderr) = linregress(x_values, y_values)\n",
    "regress_values = x_values * slope + intercept\n",
    "line_eq = \"y = \" + str(round(slope,2)) + \"x + \" + str(round(intercept,2))\n",
    "plt.scatter(x_values,y_values)\n",
    "plt.plot(x_values,regress_values,\"r-\")\n",
    "plt.annotate(line_eq,(18,36),fontsize=15,color=\"red\")\n",
    "plt.xlabel(\"Latitude\")\n",
    "plt.ylabel(\"Cloudiness\")\n",
    "plt.title(\"Southern Hemisphere - Cloudiness vs. Latitude Linear Regression\")\n",
    "plt.savefig(\"../Images/south_hemi_lat_vs_cloud.png\")"
   ]
  },
  {
   "cell_type": "code",
   "execution_count": 42,
   "metadata": {},
   "outputs": [
    {
     "data": {
      "text/plain": [
       "0.37"
      ]
     },
     "execution_count": 42,
     "metadata": {},
     "output_type": "execute_result"
    }
   ],
   "source": [
    "cor_coef = round(st.pearsonr(x_values,y_values)[0],2)\n",
    "cor_coef"
   ]
  },
  {
   "cell_type": "code",
   "execution_count": null,
   "metadata": {},
   "outputs": [],
   "source": [
    "#similar to humidity, there's no strong correlation between latitude and cloudiness.  in the case of cloudiness, the data \n",
    "#suggests that the southern hemisphere has a bit more linear relationship (getting more cloudy as it gets closer to the \n",
    "#equator) than the northern hemisphere cities... but this could also be affected by certain weather patterns at the time.  "
   ]
  },
  {
   "cell_type": "markdown",
   "metadata": {},
   "source": [
    "####  Northern Hemisphere - Wind Speed (mph) vs. Latitude Linear Regression"
   ]
  },
  {
   "cell_type": "code",
   "execution_count": 66,
   "metadata": {},
   "outputs": [
    {
     "data": {
      "image/png": "[encoded data removed]",
      "text/plain": [
       "<Figure size 432x288 with 1 Axes>"
      ]
     },
     "metadata": {
      "needs_background": "light"
     },
     "output_type": "display_data"
    }
   ],
   "source": [
    "x_values = north_hemi [\"Lat\"]\n",
    "y_values = north_hemi[\"Wind Speed\"]\n",
    "\n",
    "plt.scatter(x_values, y_values, marker=\"o\", facecolors=\"blue\", edgecolors=\"black\")\n",
    "\n",
    "plt.xlabel(\"Latitude\")\n",
    "plt.ylabel(\"Wind Speed\")\n",
    "\n",
    "(slope, intercept, rvalue, pvalue, stderr) = linregress(x_values, y_values)\n",
    "regress_values = x_values * slope + intercept\n",
    "line_eq = \"y = \" + str(round(slope,2)) + \"x + \" + str(round(intercept,2))\n",
    "plt.scatter(x_values,y_values)\n",
    "plt.plot(x_values,regress_values,\"r-\")\n",
    "plt.annotate(line_eq,(18,36),fontsize=15,color=\"red\")\n",
    "plt.xlabel(\"Latitude\")\n",
    "plt.ylabel(\"Wind Speed\")\n",
    "plt.title(\"Northern Hemisphere - Wind Speed vs. Latitude Linear Regression\")\n",
    "plt.savefig(\"../Images/nor_hemi_lat_vs_wind.png\")"
   ]
  },
  {
   "cell_type": "code",
   "execution_count": 44,
   "metadata": {},
   "outputs": [
    {
     "data": {
      "text/plain": [
       "0.27"
      ]
     },
     "execution_count": 44,
     "metadata": {},
     "output_type": "execute_result"
    }
   ],
   "source": [
    "cor_coef = round(st.pearsonr(x_values,y_values)[0],2)\n",
    "cor_coef"
   ]
  },
  {
   "cell_type": "markdown",
   "metadata": {},
   "source": [
    "####  Southern Hemisphere - Wind Speed (mph) vs. Latitude Linear Regression"
   ]
  },
  {
   "cell_type": "code",
   "execution_count": 65,
   "metadata": {},
   "outputs": [
    {
     "data": {
      "image/png": "[encoded data removed]",
      "text/plain": [
       "<Figure size 432x288 with 1 Axes>"
      ]
     },
     "metadata": {
      "needs_background": "light"
     },
     "output_type": "display_data"
    }
   ],
   "source": [
    "x_values = south_hemi [\"Lat\"]\n",
    "y_values = south_hemi[\"Wind Speed\"]\n",
    "\n",
    "plt.scatter(x_values, y_values, marker=\"o\", facecolors=\"blue\", edgecolors=\"black\")\n",
    "\n",
    "plt.xlabel(\"Latitude\")\n",
    "plt.ylabel(\"Wind Speed\")\n",
    "\n",
    "(slope, intercept, rvalue, pvalue, stderr) = linregress(x_values, y_values)\n",
    "regress_values = x_values * slope + intercept\n",
    "line_eq = \"y = \" + str(round(slope,2)) + \"x + \" + str(round(intercept,2))\n",
    "plt.scatter(x_values,y_values)\n",
    "plt.plot(x_values,regress_values,\"r-\")\n",
    "plt.annotate(line_eq,(18,36),fontsize=15,color=\"red\")\n",
    "plt.xlabel(\"Latitude\")\n",
    "plt.ylabel(\"Wind Speed\")\n",
    "plt.title(\"Southern Hemisphere - Wind Speed vs. Latitude Linear Regression\")\n",
    "plt.savefig(\"../Images/south_hemi_lat_vs_wind.png\")"
   ]
  },
  {
   "cell_type": "code",
   "execution_count": 46,
   "metadata": {},
   "outputs": [
    {
     "data": {
      "text/plain": [
       "-0.23"
      ]
     },
     "execution_count": 46,
     "metadata": {},
     "output_type": "execute_result"
    }
   ],
   "source": [
    "cor_coef = round(st.pearsonr(x_values,y_values)[0],2)\n",
    "cor_coef"
   ]
  },
  {
   "cell_type": "code",
   "execution_count": null,
   "metadata": {},
   "outputs": [],
   "source": [
    "#Weak correlation between latitude and wind speed but the data suggests that the wind speed becomes stronger as a city is \n",
    "#located further away from the equator.  there are some outliers in each dataset however, would be interesting to see how \n",
    "#the removal would affect the overall linear relationship.  "
   ]
  }
 ],
 "metadata": {
  "anaconda-cloud": {},
  "kernel_info": {
   "name": "python3"
  },
  "kernelspec": {
   "display_name": "Python 3",
   "language": "python",
   "name": "python3"
  },
  "language_info": {
   "codemirror_mode": {
    "name": "ipython",
    "version": 3
   },
   "file_extension": ".py",
   "mimetype": "text/x-python",
   "name": "python",
   "nbconvert_exporter": "python",
   "pygments_lexer": "ipython3",
   "version": "3.6.10"
  },
  "latex_envs": {
   "LaTeX_envs_menu_present": true,
   "autoclose": false,
   "autocomplete": true,
   "bibliofile": "biblio.bib",
   "cite_by": "apalike",
   "current_citInitial": 1,
   "eqLabelWithNumbers": true,
   "eqNumInitial": 1,
   "hotkeys": {
    "equation": "Ctrl-E",
    "itemize": "Ctrl-I"
   },
   "labels_anchors": false,
   "latex_user_defs": false,
   "report_style_numbering": false,
   "user_envs_cfg": false
  },
  "nteract": {
   "version": "0.12.3"
  }
 },
 "nbformat": 4,
 "nbformat_minor": 2
}
